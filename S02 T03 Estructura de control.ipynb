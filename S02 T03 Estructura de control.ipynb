{
 "cells": [
  {
   "cell_type": "markdown",
   "id": "6ea68b1b",
   "metadata": {},
   "source": [
    "### S02 T03: Estructura de control"
   ]
  },
  {
   "cell_type": "markdown",
   "id": "f152351e",
   "metadata": {},
   "source": [
    "* **Exercici 1**"
   ]
  },
  {
   "cell_type": "markdown",
   "id": "31493def",
   "metadata": {},
   "source": [
    "L'exercici consisteix a crear un programa que et classifiqui una variable numèrica en funció de l’escala Suspès/Aprovat/Notable/Excel·lent."
   ]
  },
  {
   "cell_type": "code",
   "execution_count": 1,
   "id": "ccca5083",
   "metadata": {
    "ExecuteTime": {
     "end_time": "2022-01-27T10:33:07.714099Z",
     "start_time": "2022-01-27T10:32:58.716979Z"
    }
   },
   "outputs": [
    {
     "name": "stdout",
     "output_type": "stream",
     "text": [
      "Introdueix la teva nota: 9\n",
      "Enhorabona!! La nota és excel-lent!!\n"
     ]
    }
   ],
   "source": [
    "# creem una funció que classifiqui les notes i retorni un string: \n",
    "def scores_classifier(score): \n",
    "    \n",
    "    if score > 10 or score < 0: \n",
    "        message = \"la nota introduida no és correcta.\"\n",
    "    elif score >= 9 : \n",
    "        message = \"Enhorabona!! La nota és excel-lent!!\"\n",
    "    elif score >= 7 : \n",
    "        message = \"La nota és un notable.\"\n",
    "    elif score >= 5: \n",
    "        message = \"Molt bé, has aprovat.\"\n",
    "    else: \n",
    "        message = \"Has suspès, t'hauràs d'esforçar una mica més.\"\n",
    "        \n",
    "    return message\n",
    "\n",
    "# Ara demanarem l'input a l'usuari i cridem la funció amb la nota introduïda\n",
    "score = float(input(\"Introdueix la teva nota: \"))\n",
    "print(scores_classifier(score))"
   ]
  },
  {
   "cell_type": "markdown",
   "id": "e7f28b9a",
   "metadata": {},
   "source": [
    "* **Exercici 2**"
   ]
  },
  {
   "cell_type": "markdown",
   "id": "c8401139",
   "metadata": {},
   "source": [
    "Crea un programa que et pregunti dos números. T’ha de mostrar un missatge dient si el primer és més gran, el segon és més gran o són iguals."
   ]
  },
  {
   "cell_type": "code",
   "execution_count": 2,
   "id": "2b1232e2",
   "metadata": {
    "ExecuteTime": {
     "end_time": "2022-01-27T10:33:17.367499Z",
     "start_time": "2022-01-27T10:33:07.716238Z"
    }
   },
   "outputs": [
    {
     "name": "stdout",
     "output_type": "stream",
     "text": [
      "Introdueix un número: 7\n",
      "Introdueix un altre número: 5\n",
      "El 7 és més gran que el 5.\n"
     ]
    }
   ],
   "source": [
    "def number_comparison(number1,number2): \n",
    "    \n",
    "    if number1 > number2: \n",
    "        message = \"El \" + str(number1) +\" és més gran que el \" + str(number2) + \".\"\n",
    "    elif number1 < number2: \n",
    "        message = \"El \" + str(number2) + \" és més gran que el \" + str(number1) + \".\"\n",
    "    else: \n",
    "        message = \"Els dos números són iguals.\"\n",
    "    return message\n",
    "\n",
    "number1 = int(input(\"Introdueix un número: \"))\n",
    "number2 = int(input(\"Introdueix un altre número: \"))\n",
    "\n",
    "message = number_comparison(number1, number2)\n",
    "\n",
    "print(message)"
   ]
  },
  {
   "cell_type": "markdown",
   "id": "c9daaea6",
   "metadata": {},
   "source": [
    "* **Exercici 3**"
   ]
  },
  {
   "cell_type": "markdown",
   "id": "ee15103e",
   "metadata": {},
   "source": [
    "Crea un programa que et pregunti el teu nom, i et demani un número. Si el número és 0, hauria de mostrar un missatge d’error. En cas contrari, hauria de mostrar el nom repetit tants cops com indiqui el número. Per exemple, “Joan Joan Joan”."
   ]
  },
  {
   "cell_type": "code",
   "execution_count": 3,
   "id": "2b3e36c4",
   "metadata": {
    "ExecuteTime": {
     "end_time": "2022-01-27T10:33:30.317379Z",
     "start_time": "2022-01-27T10:33:17.369009Z"
    }
   },
   "outputs": [
    {
     "name": "stdout",
     "output_type": "stream",
     "text": [
      "Quin es el teu nom? Elena\n",
      "Introdueix un número positiu: 3\n",
      "Elena Elena Elena "
     ]
    }
   ],
   "source": [
    "name = input(\"Quin es el teu nom? \")\n",
    "number = int(input(\"Introdueix un número positiu: \"))\n",
    "\n",
    "if number == 0: \n",
    "    print(\"Error, has de introduir un número més gran que zero. \")\n",
    "else: \n",
    "    for i in range(number): \n",
    "        print(name, end=\" \")"
   ]
  },
  {
   "cell_type": "markdown",
   "id": "a516aedb",
   "metadata": {},
   "source": [
    "* **Exercici 4**"
   ]
  },
  {
   "cell_type": "markdown",
   "id": "0762e3d0",
   "metadata": {},
   "source": [
    "Crea un programa que donada una llista qualsevol, et digui si es simètrica o no. Si ho és, que et digui quants elements té."
   ]
  },
  {
   "cell_type": "code",
   "execution_count": 4,
   "id": "7c24b1b0",
   "metadata": {
    "ExecuteTime": {
     "end_time": "2022-01-27T10:33:30.333189Z",
     "start_time": "2022-01-27T10:33:30.319384Z"
    }
   },
   "outputs": [],
   "source": [
    "# crearem una funció que ens generi una llista aleàtoria. El tamany de la llista el posarem per parèmetre per poder\n",
    "# escollir el tamany que volem. \n",
    "# Primer hem d'importar el mòdul random: \n",
    "import random\n",
    "\n",
    "def list_generator(list_size): \n",
    "    numbers = []\n",
    "    \n",
    "    for i in range(list_size): \n",
    "        number = random.randint(1,10)\n",
    "        numbers.append(number)\n",
    "    return numbers"
   ]
  },
  {
   "cell_type": "code",
   "execution_count": 5,
   "id": "39cebf33",
   "metadata": {
    "ExecuteTime": {
     "end_time": "2022-01-27T10:33:30.348834Z",
     "start_time": "2022-01-27T10:33:30.334190Z"
    }
   },
   "outputs": [],
   "source": [
    "# ara crearem una funció que ens retorni un booleà per saber si la llista és simètrica  \n",
    "def symmetric_list(list): \n",
    "    reversed_list = []\n",
    "    # fem un bucle for que vagi guardant els elements en una nova llista amb ordre invers fent servir la funció\n",
    "    # reversed()\n",
    "    for i in reversed(list): \n",
    "        reversed_list.append(i)\n",
    "    if list == reversed_list: \n",
    "        symmetric = True \n",
    "    else: \n",
    "        symmetric = False\n",
    "    return symmetric\n",
    "    "
   ]
  },
  {
   "cell_type": "code",
   "execution_count": 6,
   "id": "a82fc6d7",
   "metadata": {
    "ExecuteTime": {
     "end_time": "2022-01-27T10:33:30.365020Z",
     "start_time": "2022-01-27T10:33:30.350833Z"
    }
   },
   "outputs": [
    {
     "name": "stdout",
     "output_type": "stream",
     "text": [
      "[6, 7, 5, 3, 5, 8, 10, 10, 6, 4]\n",
      "La llista no és simétrica. \n"
     ]
    }
   ],
   "source": [
    "# ara ja podem cridar les funcions. En aquest cas escollirem una llista de tamany 10. \n",
    "\n",
    "list = list_generator(10)\n",
    "is_symmetric = symmetric_list(list)\n",
    "print(list)\n",
    "\n",
    "if is_symmetric: \n",
    "    print(\"La llista té\", len(list), \"elements.\")\n",
    "else: \n",
    "    print(\"La llista no és simétrica. \")"
   ]
  },
  {
   "cell_type": "markdown",
   "id": "9d8d0e60",
   "metadata": {},
   "source": [
    "* **Exercici 5**"
   ]
  },
  {
   "cell_type": "markdown",
   "id": "9b7f7e08",
   "metadata": {},
   "source": [
    "Crea un programa que donada una llista, et digui quants números coincideixen amb la seva posició. Per exemple [3,4,2,0,2,3,6] el 2 i el 6 coincideixen."
   ]
  },
  {
   "cell_type": "code",
   "execution_count": 8,
   "id": "cd548586",
   "metadata": {
    "ExecuteTime": {
     "end_time": "2022-01-27T10:33:44.219716Z",
     "start_time": "2022-01-27T10:33:44.208910Z"
    }
   },
   "outputs": [
    {
     "name": "stdout",
     "output_type": "stream",
     "text": [
      "[5, 2, 1, 8, 4, 3, 2, 3, 5, 3, 1, 1, 1, 10, 10]\n",
      "En aquesta llista hi ha 1 números que coincideixen amb la seva posició\n"
     ]
    }
   ],
   "source": [
    "# per crear la llista farem servir la funció de l'exercici anterior. \n",
    "# En aquest cas posarem que el tamany de la llista sigui 15.\n",
    "\n",
    "list = list_generator(15) \n",
    "print(list)\n",
    "\n",
    "# creem una variable i que fem servir d'índex per comparar amb els elements de la llista\n",
    "# creem una variable counter on nómes sumem si es compleix la condició: \n",
    "counter = 0\n",
    "i = 0 \n",
    "\n",
    "for number in list: \n",
    "    if number == i: \n",
    "        counter = counter + 1\n",
    "    i = i + 1\n",
    "\n",
    "print(\"En aquesta llista hi ha\", counter, \"números que coincideixen amb la seva posició\")\n"
   ]
  }
 ],
 "metadata": {
  "kernelspec": {
   "display_name": "Python 3 (ipykernel)",
   "language": "python",
   "name": "python3"
  },
  "language_info": {
   "codemirror_mode": {
    "name": "ipython",
    "version": 3
   },
   "file_extension": ".py",
   "mimetype": "text/x-python",
   "name": "python",
   "nbconvert_exporter": "python",
   "pygments_lexer": "ipython3",
   "version": "3.9.7"
  }
 },
 "nbformat": 4,
 "nbformat_minor": 5
}
